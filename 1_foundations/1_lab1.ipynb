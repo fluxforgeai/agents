{
 "cells": [
  {
   "cell_type": "markdown",
   "metadata": {},
   "source": [
    "# Welcome to the start of your adventure in Agentic AI"
   ]
  },
  {
   "cell_type": "markdown",
   "metadata": {},
   "source": [
    "<table style=\"margin: 0; text-align: left; width:100%\">\n",
    "    <tr>\n",
    "        <td style=\"width: 150px; height: 150px; vertical-align: middle;\">\n",
    "            <img src=\"../assets/stop.png\" width=\"150\" height=\"150\" style=\"display: block;\" />\n",
    "        </td>\n",
    "        <td>\n",
    "            <h2 style=\"color:#ff7800;\">Are you ready for action??</h2>\n",
    "            <span style=\"color:#ff7800;\">Have you completed all the setup steps in the <a href=\"../setup/\">setup</a> folder?<br/>\n",
    "            Have you checked out the guides in the <a href=\"../guides/01_intro.ipynb\">guides</a> folder?<br/>\n",
    "            Well in that case, you're ready!!\n",
    "            </span>\n",
    "        </td>\n",
    "    </tr>\n",
    "</table>"
   ]
  },
  {
   "cell_type": "markdown",
   "metadata": {},
   "source": [
    "<table style=\"margin: 0; text-align: left; width:100%\">\n",
    "    <tr>\n",
    "        <td style=\"width: 150px; height: 150px; vertical-align: middle;\">\n",
    "            <img src=\"../assets/tools.png\" width=\"150\" height=\"150\" style=\"display: block;\" />\n",
    "        </td>\n",
    "        <td>\n",
    "            <h2 style=\"color:#00bfff;\">This code is a live resource - keep an eye out for my updates</h2>\n",
    "            <span style=\"color:#00bfff;\">I push updates regularly. As people ask questions or have problems, I add more examples and improve explanations. As a result, the code below might not be identical to the videos, as I've added more steps and better comments. Consider this like an interactive book that accompanies the lectures.<br/><br/>\n",
    "            I try to send emails regularly with important updates related to the course. You can find this in the 'Announcements' section of Udemy in the left sidebar. You can also choose to receive my emails via your Notification Settings in Udemy. I'm respectful of your inbox and always try to add value with my emails!\n",
    "            </span>\n",
    "        </td>\n",
    "    </tr>\n",
    "</table>"
   ]
  },
  {
   "cell_type": "markdown",
   "metadata": {},
   "source": [
    "### And please do remember to contact me if I can help\n",
    "\n",
    "And I love to connect: https://www.linkedin.com/in/eddonner/\n",
    "\n",
    "\n",
    "### New to Notebooks like this one? Head over to the guides folder!\n",
    "\n",
    "Just to check you've already added the Python and Jupyter extensions to Cursor, if not already installed:\n",
    "- Open extensions (View >> extensions)\n",
    "- Search for python, and when the results show, click on the ms-python one, and Install it if not already installed\n",
    "- Search for jupyter, and when the results show, click on the Microsoft one, and Install it if not already installed  \n",
    "Then View >> Explorer to bring back the File Explorer.\n",
    "\n",
    "And then:\n",
    "1. Click where it says \"Select Kernel\" near the top right, and select the option called `.venv (Python 3.12.9)` or similar, which should be the first choice or the most prominent choice. You may need to choose \"Python Environments\" first.\n",
    "2. Click in each \"cell\" below, starting with the cell immediately below this text, and press Shift+Enter to run\n",
    "3. Enjoy!\n",
    "\n",
    "After you click \"Select Kernel\", if there is no option like `.venv (Python 3.12.9)` then please do the following:  \n",
    "1. On Mac: From the Cursor menu, choose Settings >> VS Code Settings (NOTE: be sure to select `VSCode Settings` not `Cursor Settings`);  \n",
    "On Windows PC: From the File menu, choose Preferences >> VS Code Settings(NOTE: be sure to select `VSCode Settings` not `Cursor Settings`)  \n",
    "2. In the Settings search bar, type \"venv\"  \n",
    "3. In the field \"Path to folder with a list of Virtual Environments\" put the path to the project root, like C:\\Users\\username\\projects\\agents (on a Windows PC) or /Users/username/projects/agents (on Mac or Linux).  \n",
    "And then try again.\n",
    "\n",
    "Having problems with missing Python versions in that list? Have you ever used Anaconda before? It might be interferring. Quit Cursor, bring up a new command line, and make sure that your Anaconda environment is deactivated:    \n",
    "`conda deactivate`  \n",
    "And if you still have any problems with conda and python versions, it's possible that you will need to run this too:  \n",
    "`conda config --set auto_activate_base false`  \n",
    "and then from within the Agents directory, you should be able to run `uv python list` and see the Python 3.12 version."
   ]
  },
  {
   "cell_type": "code",
   "execution_count": 2,
   "metadata": {},
   "outputs": [],
   "source": [
    "# First let's do an import\n",
    "from dotenv import load_dotenv\n"
   ]
  },
  {
   "cell_type": "code",
   "execution_count": 3,
   "metadata": {},
   "outputs": [
    {
     "data": {
      "text/plain": [
       "True"
      ]
     },
     "execution_count": 3,
     "metadata": {},
     "output_type": "execute_result"
    }
   ],
   "source": [
    "# Next it's time to load the API keys into environment variables\n",
    "\n",
    "load_dotenv(override=True)"
   ]
  },
  {
   "cell_type": "code",
   "execution_count": 4,
   "metadata": {},
   "outputs": [
    {
     "name": "stdout",
     "output_type": "stream",
     "text": [
      "OpenAI API Key exists and begins sk-proj-\n"
     ]
    }
   ],
   "source": [
    "# Check the keys\n",
    "\n",
    "import os\n",
    "openai_api_key = os.getenv('OPENAI_API_KEY')\n",
    "\n",
    "if openai_api_key:\n",
    "    print(f\"OpenAI API Key exists and begins {openai_api_key[:8]}\")\n",
    "else:\n",
    "    print(\"OpenAI API Key not set - please head to the troubleshooting guide in the setup folder\")\n",
    "    \n"
   ]
  },
  {
   "cell_type": "code",
   "execution_count": 5,
   "metadata": {},
   "outputs": [],
   "source": [
    "# And now - the all important import statement\n",
    "# If you get an import error - head over to troubleshooting guide\n",
    "\n",
    "from openai import OpenAI"
   ]
  },
  {
   "cell_type": "code",
   "execution_count": 6,
   "metadata": {},
   "outputs": [],
   "source": [
    "# And now we'll create an instance of the OpenAI class\n",
    "# If you're not sure what it means to create an instance of a class - head over to the guides folder!\n",
    "# If you get a NameError - head over to the guides folder to learn about NameErrors\n",
    "\n",
    "openai = OpenAI()"
   ]
  },
  {
   "cell_type": "code",
   "execution_count": 7,
   "metadata": {},
   "outputs": [],
   "source": [
    "# Create a list of messages in the familiar OpenAI format\n",
    "\n",
    "messages = [{\"role\": \"user\", \"content\": \"What is 2+2?\"}]"
   ]
  },
  {
   "cell_type": "code",
   "execution_count": 8,
   "metadata": {},
   "outputs": [
    {
     "name": "stdout",
     "output_type": "stream",
     "text": [
      "2 + 2 equals 4.\n"
     ]
    }
   ],
   "source": [
    "# And now call it! Any problems, head to the troubleshooting guide\n",
    "# This uses GPT 4.1 nano, the incredibly cheap model\n",
    "\n",
    "response = openai.chat.completions.create(\n",
    "    model=\"gpt-4.1-nano\",\n",
    "    messages=messages\n",
    ")\n",
    "\n",
    "print(response.choices[0].message.content)\n",
    "\n"
   ]
  },
  {
   "cell_type": "code",
   "execution_count": 9,
   "metadata": {},
   "outputs": [],
   "source": [
    "# And now - let's ask for a question:\n",
    "\n",
    "question = \"Please propose a hard, challenging question to assess someone's IQ. Respond only with the question.\"\n",
    "messages = [{\"role\": \"user\", \"content\": question}]\n"
   ]
  },
  {
   "cell_type": "code",
   "execution_count": 10,
   "metadata": {},
   "outputs": [
    {
     "name": "stdout",
     "output_type": "stream",
     "text": [
      "If five machines take five minutes to make five widgets, how long would 100 machines take to make 100 widgets?\n"
     ]
    }
   ],
   "source": [
    "# ask it - this uses GPT 4.1 mini, still cheap but more powerful than nano\n",
    "\n",
    "response = openai.chat.completions.create(\n",
    "    model=\"gpt-4.1-mini\",\n",
    "    messages=messages\n",
    ")\n",
    "\n",
    "question = response.choices[0].message.content\n",
    "\n",
    "print(question)\n"
   ]
  },
  {
   "cell_type": "code",
   "execution_count": 11,
   "metadata": {},
   "outputs": [],
   "source": [
    "# form a new messages list\n",
    "messages = [{\"role\": \"user\", \"content\": question}]\n"
   ]
  },
  {
   "cell_type": "code",
   "execution_count": 12,
   "metadata": {},
   "outputs": [
    {
     "name": "stdout",
     "output_type": "stream",
     "text": [
      "Let's analyze the problem:\n",
      "\n",
      "- **Given:**  \n",
      "  5 machines take 5 minutes to make 5 widgets.\n",
      "\n",
      "From this, we can find the rate or productivity of machines.\n",
      "\n",
      "### Step 1: Find the rate of one machine\n",
      "If 5 machines take 5 minutes to make 5 widgets, then:\n",
      "\n",
      "- Total widgets made = 5\n",
      "- Total time = 5 minutes\n",
      "- Number of machines = 5\n",
      "\n",
      "Widgets per machine per minute = (5 widgets) / (5 machines * 5 minutes) = 5 / 25 = 0.2 widgets per machine per minute.\n",
      "\n",
      "So, **one machine makes 0.2 widgets per minute**.\n",
      "\n",
      "### Step 2: Find out how long 100 machines take to make 100 widgets\n",
      "- Total widgets needed = 100\n",
      "- Machines available = 100\n",
      "- Rate per machine = 0.2 widgets per minute\n",
      "\n",
      "Therefore, total rate for 100 machines = 100 * 0.2 = 20 widgets per minute.\n",
      "\n",
      "To make 100 widgets at 20 widgets per minute:\n",
      "\n",
      "Time = (100 widgets) / (20 widgets per minute) = 5 minutes.\n",
      "\n",
      "---\n",
      "\n",
      "### **Answer:**\n",
      "100 machines will take **5 minutes** to make 100 widgets.\n"
     ]
    }
   ],
   "source": [
    "# Ask it again\n",
    "\n",
    "response = openai.chat.completions.create(\n",
    "    model=\"gpt-4.1-mini\",\n",
    "    messages=messages\n",
    ")\n",
    "\n",
    "answer = response.choices[0].message.content\n",
    "print(answer)\n"
   ]
  },
  {
   "cell_type": "code",
   "execution_count": 13,
   "metadata": {},
   "outputs": [
    {
     "data": {
      "text/markdown": [
       "Let's analyze the problem:\n",
       "\n",
       "- **Given:**  \n",
       "  5 machines take 5 minutes to make 5 widgets.\n",
       "\n",
       "From this, we can find the rate or productivity of machines.\n",
       "\n",
       "### Step 1: Find the rate of one machine\n",
       "If 5 machines take 5 minutes to make 5 widgets, then:\n",
       "\n",
       "- Total widgets made = 5\n",
       "- Total time = 5 minutes\n",
       "- Number of machines = 5\n",
       "\n",
       "Widgets per machine per minute = (5 widgets) / (5 machines * 5 minutes) = 5 / 25 = 0.2 widgets per machine per minute.\n",
       "\n",
       "So, **one machine makes 0.2 widgets per minute**.\n",
       "\n",
       "### Step 2: Find out how long 100 machines take to make 100 widgets\n",
       "- Total widgets needed = 100\n",
       "- Machines available = 100\n",
       "- Rate per machine = 0.2 widgets per minute\n",
       "\n",
       "Therefore, total rate for 100 machines = 100 * 0.2 = 20 widgets per minute.\n",
       "\n",
       "To make 100 widgets at 20 widgets per minute:\n",
       "\n",
       "Time = (100 widgets) / (20 widgets per minute) = 5 minutes.\n",
       "\n",
       "---\n",
       "\n",
       "### **Answer:**\n",
       "100 machines will take **5 minutes** to make 100 widgets."
      ],
      "text/plain": [
       "<IPython.core.display.Markdown object>"
      ]
     },
     "metadata": {},
     "output_type": "display_data"
    }
   ],
   "source": [
    "from IPython.display import Markdown, display\n",
    "\n",
    "display(Markdown(answer))\n",
    "\n"
   ]
  },
  {
   "cell_type": "markdown",
   "metadata": {},
   "source": [
    "# Congratulations!\n",
    "\n",
    "That was a small, simple step in the direction of Agentic AI, with your new environment!\n",
    "\n",
    "Next time things get more interesting..."
   ]
  },
  {
   "cell_type": "markdown",
   "metadata": {},
   "source": [
    "<table style=\"margin: 0; text-align: left; width:100%\">\n",
    "    <tr>\n",
    "        <td style=\"width: 150px; height: 150px; vertical-align: middle;\">\n",
    "            <img src=\"../assets/exercise.png\" width=\"150\" height=\"150\" style=\"display: block;\" />\n",
    "        </td>\n",
    "        <td>\n",
    "            <h2 style=\"color:#ff7800;\">Exercise</h2>\n",
    "            <span style=\"color:#ff7800;\">Now try this commercial application:<br/>\n",
    "            First ask the LLM to pick a business area that might be worth exploring for an Agentic AI opportunity.<br/>\n",
    "            Then ask the LLM to present a pain-point in that industry - something challenging that might be ripe for an Agentic solution.<br/>\n",
    "            Finally have 3 third LLM call propose the Agentic AI solution.\n",
    "            </span>\n",
    "        </td>\n",
    "    </tr>\n",
    "</table>"
   ]
  },
  {
   "cell_type": "code",
   "execution_count": 15,
   "metadata": {},
   "outputs": [
    {
     "data": {
      "text/markdown": [
       "One promising business area to explore for an Agentic AI opportunity is **personalized healthcare and wellness management**. \n",
       "\n",
       "Given the complexity and personalization required in healthcare, a self-directed AI agent could assist individuals in managing their health by integrating data from wearables, medical records, and lifestyle inputs. It could proactively recommend lifestyle changes, medication adherence, appointment scheduling, and early detection alerts. This empowers users to take control of their health while reducing strain on healthcare providers, ultimately improving outcomes and patient engagement."
      ],
      "text/plain": [
       "<IPython.core.display.Markdown object>"
      ]
     },
     "metadata": {},
     "output_type": "display_data"
    }
   ],
   "source": [
    "# First create the messages:\n",
    "messages = [{\"role\": \"user\", \"content\": \"Pick a business area that might be worth exploring for an Agentic AI opportunity.\"}]\n",
    "\n",
    "# Then make the first call:\n",
    "response = openai.chat.completions.create(\n",
    "    model=\"gpt-4.1-nano\",\n",
    "    messages=messages\n",
    ")\n",
    "\n",
    "# Extract the business idea text from the response:\n",
    "business_idea = response.choices[0].message.content\n",
    "\n",
    "# Display the result using Markdown\n",
    "from IPython.display import Markdown, display\n",
    "display(Markdown(business_idea))\n",
    "\n",
    "# And repeat!"
   ]
  },
  {
   "cell_type": "markdown",
   "metadata": {},
   "source": []
  },
  {
   "cell_type": "code",
   "execution_count": 16,
   "metadata": {},
   "outputs": [],
   "source": [
    "# Present a pain-point in that industry - something challenging that might be ripe for an Agentic solution.\n",
    "\n"
   ]
  },
  {
   "cell_type": "code",
   "execution_count": 17,
   "metadata": {},
   "outputs": [
    {
     "data": {
      "text/markdown": [
       "A significant pain point in personalized healthcare and wellness management is **the fragmentation and integration challenge of diverse health data sources**. Patients often have health information scattered across various platforms—wearables, electronic medical records (EMRs), pharmacy records, and personal logs—which makes it difficult to obtain a comprehensive and real-time view of their health. This fragmentation hampers timely decision-making, personalized recommendations, and early detection of health issues.\n",
       "\n",
       "Moreover, navigating these disparate data sources typically requires substantial effort and medical literacy, creating barriers to effective self-management. Healthcare providers also face challenges in consolidating patient data efficiently, leading to delays and less targeted care.\n",
       "\n",
       "An Agentic AI solution could address this pain point by autonomously aggregating, validating, and synthesizing data from multiple sources, presenting users and providers with clear, actionable insights. By proactively monitoring health signals, flagging potential issues early, and suggesting personalized interventions—such as medication reminders, lifestyle adjustments, or scheduling appointments—it empowers individuals to manage their health more effectively while alleviating the administrative burden on healthcare systems."
      ],
      "text/plain": [
       "<IPython.core.display.Markdown object>"
      ]
     },
     "metadata": {},
     "output_type": "display_data"
    }
   ],
   "source": [
    "# Assume business_idea is already defined from the previous cell\n",
    "prompt = f\"Present a pain-point in that industry - something challenging that might be ripe for an Agentic solution. The industry is: {business_idea}\"\n",
    "\n",
    "messages = [{\"role\": \"user\", \"content\": prompt}]\n",
    "\n",
    "response = openai.chat.completions.create(\n",
    "    model=\"gpt-4.1-nano\",\n",
    "    messages=messages\n",
    ")\n",
    "\n",
    "pain_point = response.choices[0].message.content\n",
    "\n",
    "from IPython.display import Markdown, display\n",
    "display(Markdown(pain_point))"
   ]
  },
  {
   "cell_type": "code",
   "execution_count": 19,
   "metadata": {},
   "outputs": [
    {
     "data": {
      "text/markdown": [
       "An agentic AI solution to address the fragmentation and integration challenges in personalized healthcare and wellness management would be **a Smart Health Data Orchestrator and Advisor (SHDAO)**. This autonomous system would serve as a centralized, intelligent hub that seamlessly combines, validates, and synthesizes health data from diverse sources, providing proactive insights and personalized recommendations.\n",
       "\n",
       "### Core Components and Features:\n",
       "\n",
       "1. **Autonomous Data Aggregation & Integration**\n",
       "   - **Multi-Source Connectivity:** Connects securely with wearables, EMRs, pharmacy records, personal health logs, and other data repositories.\n",
       "   - **Patient Consent & Privacy Management:** Ensures compliance with privacy regulations (like HIPAA, GDPR) while managing user permissions dynamically.\n",
       "   - **Data Harmonization & Standardization:** Converts diverse formats into a coherent, interoperable data model for consistent interpretation.\n",
       "\n",
       "2. **Data Validation & Quality Assurance**\n",
       "   - **Real-Time Validation:** Uses AI algorithms to detect anomalies, missing data, or inconsistencies and validates data accuracy.\n",
       "   - **Feedback Loop:** Engages users and providers to confirm or correct data discrepancies when necessary.\n",
       "\n",
       "3. **Proactive Monitoring & Early Detection**\n",
       "   - **Continuous Analytics:** Employs predictive models to monitor health signals in real-time.\n",
       "   - **Anomaly & Risk Flags:** Prompts early alerts for potential issues such as abnormal vital signs, medication interactions, or signs of chronic disease exacerbation.\n",
       "\n",
       "4. **Personalized, Actionable Insights**\n",
       "   - **Tailored Recommendations:** Suggests lifestyle modifications, medication adherence strategies, or scheduling for check-ups based on integrated data and individual health profiles.\n",
       "   - **Contextual Alerts:** Notifies users and clinicians about critical changes or opportunities for intervention promptly.\n",
       "\n",
       "5. **User and Provider Interaction**\n",
       "   - **Conversational Interface:** Facilitates easy communication—patients can ask questions about their health status or recommendations.\n",
       "   - **Dashboard & Reports:** Provides intuitive summaries, trends, and insights accessible to both users and healthcare providers.\n",
       "\n",
       "6. **Autonomous Decision-Making & Intervention**\n",
       "   - **Scheduling & Reminders:** Automatically schedules appointments, medication refills, or wellness activities.\n",
       "   - **Personalized Interventions:** Initiates behavioral nudges or alerts that can be accepted or deferred by the user.\n",
       "\n",
       "### How It Addresses the Pain Point:\n",
       "\n",
       "- **Integration & Centralization:** SHDAO autonomously consolidates all relevant health data into a unified, real-time dashboard, reducing manual effort and information silos.\n",
       "- **Enhanced Decision-Making:** By synthesizing diverse data streams, it provides comprehensive insights that inform timely, personalized actions.\n",
       "- **Empowerment & Self-Management:** Simplifies complex health information into understandable, actionable guidance, making self-management accessible regardless of medical literacy.\n",
       "- **Support for Providers:** Offers clinicians a holistic view of the patient’s health evolution, enabling more targeted and timely interventions.\n",
       "\n",
       "### Implementation Considerations:\n",
       "\n",
       "- **Interoperability Standards:** Leverage FHIR, HL7, and other industry standards to facilitate data exchange.\n",
       "- **Data Privacy & Security:** Enforce robust security measures and transparent consent protocols.\n",
       "- **Patient Engagement:** Incorporate user-friendly interfaces and motivational elements to promote ongoing engagement.\n",
       "\n",
       "---\n",
       "\n",
       "**In summary**, the Smart Health Data Orchestrator and Advisor acts as a proactive, autonomous agent that seamlessly integrates, validates, and leverages health data. It empowers individuals and healthcare providers with timely, personalized insights and interventions—transforming fragmented data chaos into actionable, holistic health management."
      ],
      "text/plain": [
       "<IPython.core.display.Markdown object>"
      ]
     },
     "metadata": {},
     "output_type": "display_data"
    }
   ],
   "source": [
    "# Propose the Agentic AI solution\n",
    "# Compose the prompt using the pain_point variable\n",
    "prompt = f\"Propose an agentic AI solution for the following pain point in personalized healthcare and wellness management:\\n\\n{pain_point}\"\n",
    "\n",
    "messages = [{\"role\": \"user\", \"content\": prompt}]\n",
    "\n",
    "response = openai.chat.completions.create(\n",
    "    model=\"gpt-4.1-nano\",\n",
    "    messages=messages\n",
    ")\n",
    "\n",
    "agentic_solution = response.choices[0].message.content\n",
    "\n",
    "from IPython.display import Markdown, display\n",
    "display(Markdown(agentic_solution))"
   ]
  },
  {
   "cell_type": "code",
   "execution_count": null,
   "metadata": {},
   "outputs": [],
   "source": []
  }
 ],
 "metadata": {
  "kernelspec": {
   "display_name": ".venv",
   "language": "python",
   "name": "python3"
  },
  "language_info": {
   "codemirror_mode": {
    "name": "ipython",
    "version": 3
   },
   "file_extension": ".py",
   "mimetype": "text/x-python",
   "name": "python",
   "nbconvert_exporter": "python",
   "pygments_lexer": "ipython3",
   "version": "3.12.3"
  }
 },
 "nbformat": 4,
 "nbformat_minor": 2
}
